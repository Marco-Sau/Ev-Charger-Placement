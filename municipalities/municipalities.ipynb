import pandas as pd

# Download ISTAT's municipalities data
url = "https://www.istat.it/storage/codici-unita-amministrative/Elenco-comuni-italiani.csv"
df = pd.read_csv(url, sep=";", encoding="latin1")

# Filter for Sardinia (Region code = 20)
sardinia = df[df["Codice Regione"] == 20]

# Save to CSV
sardinia.to_csv("sardinia_municipalities.csv", index=False, encoding="utf-8")